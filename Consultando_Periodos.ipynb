{
 "cells": [
  {
   "cell_type": "code",
   "execution_count": 3,
   "id": "41402906",
   "metadata": {},
   "outputs": [
    {
     "name": "stdout",
     "output_type": "stream",
     "text": [
      "Valores disponibles en 'PERIODO' en hogares: [2010.0, 2011.0, 2012.0, 2017.0, 2018.0, 2019.0, 2020.0, 2021.0, 2023.0, 20130939.0]\n"
     ]
    }
   ],
   "source": [
    "import pandas as pd\n",
    "from pymongo import MongoClient\n",
    "\n",
    "# Conectar a MongoDB localmente\n",
    "client = MongoClient('mongodb://localhost:27017/')\n",
    "db = client['datos_pobreza_educacion']  # Nombre de tu base de datos\n",
    "hogares_collection = db['hogares']  # Nombre de tu colección\n",
    "icfes_collection = db['resultados_icfes']  # Nombre de tu colección\n",
    "\n",
    "# Consultar los valores únicos en \"PERIODO\" en la colección hogares\n",
    "valores_hogares = hogares_collection.distinct('PERIODO')\n",
    "print(\"Valores disponibles en 'PERIODO' en hogares:\", valores_hogares)\n",
    "\n",
    "\n"
   ]
  },
  {
   "cell_type": "code",
   "execution_count": 4,
   "id": "8397480d",
   "metadata": {},
   "outputs": [
    {
     "name": "stdout",
     "output_type": "stream",
     "text": [
      "Valores disponibles en 'PERIODO' en resultados_icfes: [20142, 20151, 20152, 20161, 20162, 20171, 20172, 20181, 20191, 20194, 20201, 20211, 20221, 20224]\n"
     ]
    }
   ],
   "source": [
    "# Consultar los valores únicos en \"PERIODO\" en la colección resultados_icfes\n",
    "periodos_icfes = icfes_collection.distinct('PERIODO')\n",
    "print(\"Valores disponibles en 'PERIODO' en resultados_icfes:\", periodos_icfes)\n",
    "\n"
   ]
  },
  {
   "cell_type": "code",
   "execution_count": 5,
   "id": "53fac267",
   "metadata": {},
   "outputs": [
    {
     "name": "stdout",
     "output_type": "stream",
     "text": [
      "Valores disponibles en 'YEAR' en resultados_icfes: [2014, 2015, 2016, 2017, 2018, 2019, 2020, 2021, 2022]\n"
     ]
    }
   ],
   "source": [
    "# Consultar los valores únicos en \"YEAR\" en la colección resultados_icfes\n",
    "valores_icfes = icfes_collection.distinct('YEAR')\n",
    "print(\"Valores disponibles en 'YEAR' en resultados_icfes:\", valores_icfes)"
   ]
  },
  {
   "cell_type": "code",
   "execution_count": null,
   "id": "63e7e400",
   "metadata": {},
   "outputs": [],
   "source": []
  }
 ],
 "metadata": {
  "kernelspec": {
   "display_name": "Python 3 (ipykernel)",
   "language": "python",
   "name": "python3"
  },
  "language_info": {
   "codemirror_mode": {
    "name": "ipython",
    "version": 3
   },
   "file_extension": ".py",
   "mimetype": "text/x-python",
   "name": "python",
   "nbconvert_exporter": "python",
   "pygments_lexer": "ipython3",
   "version": "3.11.5"
  }
 },
 "nbformat": 4,
 "nbformat_minor": 5
}
